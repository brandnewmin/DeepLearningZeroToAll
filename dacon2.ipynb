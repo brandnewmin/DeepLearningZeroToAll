{
  "nbformat": 4,
  "nbformat_minor": 0,
  "metadata": {
    "colab": {
      "name": "dacon2.ipynb",
      "provenance": [],
      "collapsed_sections": [],
      "authorship_tag": "ABX9TyMAQR3TQZflMYj4PMEv40x4",
      "include_colab_link": true
    },
    "kernelspec": {
      "name": "python3",
      "display_name": "Python 3"
    }
  },
  "cells": [
    {
      "cell_type": "markdown",
      "metadata": {
        "id": "view-in-github",
        "colab_type": "text"
      },
      "source": [
        "<a href=\"https://colab.research.google.com/github/brandnewmin/DeepLearningZeroToAll/blob/master/dacon2.ipynb\" target=\"_parent\"><img src=\"https://colab.research.google.com/assets/colab-badge.svg\" alt=\"Open In Colab\"/></a>"
      ]
    },
    {
      "cell_type": "code",
      "metadata": {
        "id": "9mFcyRZomFfG"
      },
      "source": [
        "import pandas as pd\r\n",
        "import numpy as np\r\n",
        "import matplotlib.pyplot as plt\r\n",
        "import seaborn as sns\r\n",
        "plt.style.use('seaborn')\r\n",
        "sns.set(font_scale=2.5)\r\n",
        "%matplotlib inline"
      ],
      "execution_count": 1,
      "outputs": []
    },
    {
      "cell_type": "code",
      "metadata": {
        "id": "uCg8xTwYmHbV"
      },
      "source": [
        "import missingno as msno #결측값보이기"
      ],
      "execution_count": 2,
      "outputs": []
    },
    {
      "cell_type": "code",
      "metadata": {
        "colab": {
          "base_uri": "https://localhost:8080/"
        },
        "id": "zvfNMVGWmJF4",
        "outputId": "0606df5c-7276-4c3e-f233-b60bfa263d37"
      },
      "source": [
        "from google.colab import drive\r\n",
        "drive.mount('/content/drive')"
      ],
      "execution_count": 3,
      "outputs": [
        {
          "output_type": "stream",
          "text": [
            "Mounted at /content/drive\n"
          ],
          "name": "stdout"
        }
      ]
    },
    {
      "cell_type": "code",
      "metadata": {
        "id": "hfiiTh9TmZps"
      },
      "source": [
        "pd.options.display.float_format='{:.2f}'.format"
      ],
      "execution_count": 6,
      "outputs": []
    },
    {
      "cell_type": "code",
      "metadata": {
        "colab": {
          "base_uri": "https://localhost:8080/",
          "height": 204
        },
        "id": "N3LKNboLmOCj",
        "outputId": "8aa18d79-8354-4dd2-d424-bfdcb38f3c4e"
      },
      "source": [
        "train = pd.read_csv('/content/drive/My Drive/data/train.csv')\r\n",
        "train.head()"
      ],
      "execution_count": 4,
      "outputs": [
        {
          "output_type": "execute_result",
          "data": {
            "text/html": [
              "<div>\n",
              "<style scoped>\n",
              "    .dataframe tbody tr th:only-of-type {\n",
              "        vertical-align: middle;\n",
              "    }\n",
              "\n",
              "    .dataframe tbody tr th {\n",
              "        vertical-align: top;\n",
              "    }\n",
              "\n",
              "    .dataframe thead th {\n",
              "        text-align: right;\n",
              "    }\n",
              "</style>\n",
              "<table border=\"1\" class=\"dataframe\">\n",
              "  <thead>\n",
              "    <tr style=\"text-align: right;\">\n",
              "      <th></th>\n",
              "      <th>store_id</th>\n",
              "      <th>date</th>\n",
              "      <th>time</th>\n",
              "      <th>card_id</th>\n",
              "      <th>amount</th>\n",
              "      <th>installments</th>\n",
              "      <th>days_of_week</th>\n",
              "      <th>holyday</th>\n",
              "    </tr>\n",
              "  </thead>\n",
              "  <tbody>\n",
              "    <tr>\n",
              "      <th>0</th>\n",
              "      <td>0</td>\n",
              "      <td>2016-12-14</td>\n",
              "      <td>18:05:31</td>\n",
              "      <td>d297bba73f</td>\n",
              "      <td>5</td>\n",
              "      <td>NaN</td>\n",
              "      <td>2</td>\n",
              "      <td>0</td>\n",
              "    </tr>\n",
              "    <tr>\n",
              "      <th>1</th>\n",
              "      <td>0</td>\n",
              "      <td>2016-12-14</td>\n",
              "      <td>18:05:54</td>\n",
              "      <td>d297bba73f</td>\n",
              "      <td>-5</td>\n",
              "      <td>NaN</td>\n",
              "      <td>2</td>\n",
              "      <td>0</td>\n",
              "    </tr>\n",
              "    <tr>\n",
              "      <th>2</th>\n",
              "      <td>0</td>\n",
              "      <td>2016-12-19</td>\n",
              "      <td>12:42:31</td>\n",
              "      <td>0880849c05</td>\n",
              "      <td>144</td>\n",
              "      <td>NaN</td>\n",
              "      <td>0</td>\n",
              "      <td>0</td>\n",
              "    </tr>\n",
              "    <tr>\n",
              "      <th>3</th>\n",
              "      <td>0</td>\n",
              "      <td>2016-12-19</td>\n",
              "      <td>12:48:08</td>\n",
              "      <td>8b4f9e0e95</td>\n",
              "      <td>66</td>\n",
              "      <td>NaN</td>\n",
              "      <td>0</td>\n",
              "      <td>0</td>\n",
              "    </tr>\n",
              "    <tr>\n",
              "      <th>4</th>\n",
              "      <td>0</td>\n",
              "      <td>2016-12-19</td>\n",
              "      <td>13:31:08</td>\n",
              "      <td>7ad237eed0</td>\n",
              "      <td>24</td>\n",
              "      <td>NaN</td>\n",
              "      <td>0</td>\n",
              "      <td>0</td>\n",
              "    </tr>\n",
              "  </tbody>\n",
              "</table>\n",
              "</div>"
            ],
            "text/plain": [
              "   store_id        date      time  ... installments  days_of_week  holyday\n",
              "0         0  2016-12-14  18:05:31  ...          NaN             2        0\n",
              "1         0  2016-12-14  18:05:54  ...          NaN             2        0\n",
              "2         0  2016-12-19  12:42:31  ...          NaN             0        0\n",
              "3         0  2016-12-19  12:48:08  ...          NaN             0        0\n",
              "4         0  2016-12-19  13:31:08  ...          NaN             0        0\n",
              "\n",
              "[5 rows x 8 columns]"
            ]
          },
          "metadata": {
            "tags": []
          },
          "execution_count": 4
        }
      ]
    },
    {
      "cell_type": "code",
      "metadata": {
        "colab": {
          "base_uri": "https://localhost:8080/",
          "height": 419
        },
        "id": "N7tO-xDlWrPB",
        "outputId": "1a168887-3c84-467b-ad31-245472628f39"
      },
      "source": [
        "#train[['store_id','installments','amount','holyday','days_of_week']].groupby(['store_id'],as_index=False).count()\r\n",
        "#그다지 별로"
      ],
      "execution_count": 51,
      "outputs": [
        {
          "output_type": "execute_result",
          "data": {
            "text/html": [
              "<div>\n",
              "<style scoped>\n",
              "    .dataframe tbody tr th:only-of-type {\n",
              "        vertical-align: middle;\n",
              "    }\n",
              "\n",
              "    .dataframe tbody tr th {\n",
              "        vertical-align: top;\n",
              "    }\n",
              "\n",
              "    .dataframe thead th {\n",
              "        text-align: right;\n",
              "    }\n",
              "</style>\n",
              "<table border=\"1\" class=\"dataframe\">\n",
              "  <thead>\n",
              "    <tr style=\"text-align: right;\">\n",
              "      <th></th>\n",
              "      <th>store_id</th>\n",
              "      <th>installments</th>\n",
              "      <th>amount</th>\n",
              "      <th>holyday</th>\n",
              "      <th>days_of_week</th>\n",
              "    </tr>\n",
              "  </thead>\n",
              "  <tbody>\n",
              "    <tr>\n",
              "      <th>0</th>\n",
              "      <td>0</td>\n",
              "      <td>250</td>\n",
              "      <td>68773</td>\n",
              "      <td>68773</td>\n",
              "      <td>68773</td>\n",
              "    </tr>\n",
              "    <tr>\n",
              "      <th>1</th>\n",
              "      <td>1</td>\n",
              "      <td>14</td>\n",
              "      <td>40</td>\n",
              "      <td>40</td>\n",
              "      <td>40</td>\n",
              "    </tr>\n",
              "    <tr>\n",
              "      <th>2</th>\n",
              "      <td>2</td>\n",
              "      <td>0</td>\n",
              "      <td>16829</td>\n",
              "      <td>16829</td>\n",
              "      <td>16829</td>\n",
              "    </tr>\n",
              "    <tr>\n",
              "      <th>3</th>\n",
              "      <td>3</td>\n",
              "      <td>1</td>\n",
              "      <td>383</td>\n",
              "      <td>383</td>\n",
              "      <td>383</td>\n",
              "    </tr>\n",
              "    <tr>\n",
              "      <th>4</th>\n",
              "      <td>4</td>\n",
              "      <td>0</td>\n",
              "      <td>2082</td>\n",
              "      <td>2082</td>\n",
              "      <td>2082</td>\n",
              "    </tr>\n",
              "    <tr>\n",
              "      <th>...</th>\n",
              "      <td>...</td>\n",
              "      <td>...</td>\n",
              "      <td>...</td>\n",
              "      <td>...</td>\n",
              "      <td>...</td>\n",
              "    </tr>\n",
              "    <tr>\n",
              "      <th>419</th>\n",
              "      <td>424</td>\n",
              "      <td>0</td>\n",
              "      <td>3481</td>\n",
              "      <td>3481</td>\n",
              "      <td>3481</td>\n",
              "    </tr>\n",
              "    <tr>\n",
              "      <th>420</th>\n",
              "      <td>425</td>\n",
              "      <td>0</td>\n",
              "      <td>4094</td>\n",
              "      <td>4094</td>\n",
              "      <td>4094</td>\n",
              "    </tr>\n",
              "    <tr>\n",
              "      <th>421</th>\n",
              "      <td>426</td>\n",
              "      <td>5</td>\n",
              "      <td>1038</td>\n",
              "      <td>1038</td>\n",
              "      <td>1038</td>\n",
              "    </tr>\n",
              "    <tr>\n",
              "      <th>422</th>\n",
              "      <td>427</td>\n",
              "      <td>5</td>\n",
              "      <td>16</td>\n",
              "      <td>16</td>\n",
              "      <td>16</td>\n",
              "    </tr>\n",
              "    <tr>\n",
              "      <th>423</th>\n",
              "      <td>428</td>\n",
              "      <td>1</td>\n",
              "      <td>767</td>\n",
              "      <td>767</td>\n",
              "      <td>767</td>\n",
              "    </tr>\n",
              "  </tbody>\n",
              "</table>\n",
              "<p>424 rows × 5 columns</p>\n",
              "</div>"
            ],
            "text/plain": [
              "     store_id  installments  amount  holyday  days_of_week\n",
              "0           0           250   68773    68773         68773\n",
              "1           1            14      40       40            40\n",
              "2           2             0   16829    16829         16829\n",
              "3           3             1     383      383           383\n",
              "4           4             0    2082     2082          2082\n",
              "..        ...           ...     ...      ...           ...\n",
              "419       424             0    3481     3481          3481\n",
              "420       425             0    4094     4094          4094\n",
              "421       426             5    1038     1038          1038\n",
              "422       427             5      16       16            16\n",
              "423       428             1     767      767           767\n",
              "\n",
              "[424 rows x 5 columns]"
            ]
          },
          "metadata": {
            "tags": []
          },
          "execution_count": 51
        }
      ]
    },
    {
      "cell_type": "code",
      "metadata": {
        "colab": {
          "base_uri": "https://localhost:8080/",
          "height": 297
        },
        "id": "0zJ3UsVHmVe1",
        "outputId": "f4a25b05-f2a4-4b5b-9d69-5ad1d88c4c77"
      },
      "source": [
        "train.describe()"
      ],
      "execution_count": 7,
      "outputs": [
        {
          "output_type": "execute_result",
          "data": {
            "text/html": [
              "<div>\n",
              "<style scoped>\n",
              "    .dataframe tbody tr th:only-of-type {\n",
              "        vertical-align: middle;\n",
              "    }\n",
              "\n",
              "    .dataframe tbody tr th {\n",
              "        vertical-align: top;\n",
              "    }\n",
              "\n",
              "    .dataframe thead th {\n",
              "        text-align: right;\n",
              "    }\n",
              "</style>\n",
              "<table border=\"1\" class=\"dataframe\">\n",
              "  <thead>\n",
              "    <tr style=\"text-align: right;\">\n",
              "      <th></th>\n",
              "      <th>store_id</th>\n",
              "      <th>amount</th>\n",
              "      <th>installments</th>\n",
              "      <th>days_of_week</th>\n",
              "      <th>holyday</th>\n",
              "    </tr>\n",
              "  </thead>\n",
              "  <tbody>\n",
              "    <tr>\n",
              "      <th>count</th>\n",
              "      <td>1048575.00</td>\n",
              "      <td>1048575.00</td>\n",
              "      <td>3552.00</td>\n",
              "      <td>1048575.00</td>\n",
              "      <td>1048575.00</td>\n",
              "    </tr>\n",
              "    <tr>\n",
              "      <th>mean</th>\n",
              "      <td>197.35</td>\n",
              "      <td>122.47</td>\n",
              "      <td>3.67</td>\n",
              "      <td>3.08</td>\n",
              "      <td>0.04</td>\n",
              "    </tr>\n",
              "    <tr>\n",
              "      <th>std</th>\n",
              "      <td>129.14</td>\n",
              "      <td>774.56</td>\n",
              "      <td>3.27</td>\n",
              "      <td>1.98</td>\n",
              "      <td>0.20</td>\n",
              "    </tr>\n",
              "    <tr>\n",
              "      <th>min</th>\n",
              "      <td>0.00</td>\n",
              "      <td>-250000.00</td>\n",
              "      <td>2.00</td>\n",
              "      <td>0.00</td>\n",
              "      <td>0.00</td>\n",
              "    </tr>\n",
              "    <tr>\n",
              "      <th>25%</th>\n",
              "      <td>88.00</td>\n",
              "      <td>30.00</td>\n",
              "      <td>3.00</td>\n",
              "      <td>1.00</td>\n",
              "      <td>0.00</td>\n",
              "    </tr>\n",
              "    <tr>\n",
              "      <th>50%</th>\n",
              "      <td>186.00</td>\n",
              "      <td>65.00</td>\n",
              "      <td>3.00</td>\n",
              "      <td>3.00</td>\n",
              "      <td>0.00</td>\n",
              "    </tr>\n",
              "    <tr>\n",
              "      <th>75%</th>\n",
              "      <td>309.00</td>\n",
              "      <td>130.00</td>\n",
              "      <td>3.00</td>\n",
              "      <td>5.00</td>\n",
              "      <td>0.00</td>\n",
              "    </tr>\n",
              "    <tr>\n",
              "      <th>max</th>\n",
              "      <td>428.00</td>\n",
              "      <td>250000.00</td>\n",
              "      <td>24.00</td>\n",
              "      <td>6.00</td>\n",
              "      <td>1.00</td>\n",
              "    </tr>\n",
              "  </tbody>\n",
              "</table>\n",
              "</div>"
            ],
            "text/plain": [
              "        store_id     amount  installments  days_of_week    holyday\n",
              "count 1048575.00 1048575.00       3552.00    1048575.00 1048575.00\n",
              "mean      197.35     122.47          3.67          3.08       0.04\n",
              "std       129.14     774.56          3.27          1.98       0.20\n",
              "min         0.00 -250000.00          2.00          0.00       0.00\n",
              "25%        88.00      30.00          3.00          1.00       0.00\n",
              "50%       186.00      65.00          3.00          3.00       0.00\n",
              "75%       309.00     130.00          3.00          5.00       0.00\n",
              "max       428.00  250000.00         24.00          6.00       1.00"
            ]
          },
          "metadata": {
            "tags": []
          },
          "execution_count": 7
        }
      ]
    },
    {
      "cell_type": "code",
      "metadata": {
        "colab": {
          "base_uri": "https://localhost:8080/"
        },
        "id": "scQXf6mJmpYl",
        "outputId": "aa7e3726-1232-4fd4-9568-e62dd7a3a94c"
      },
      "source": [
        "for col in train.columns :\r\n",
        "  msg = 'column : {:>10}\\t Percent of NaN value : {:.2f}%'.format(col, 100*(train[col].isnull().sum()/train[col].shape[0]))\r\n",
        "  print(msg)\r\n",
        "#installments의 NaN은 일시불을 의미하기 때문에 함부로 지우지 말 것"
      ],
      "execution_count": 8,
      "outputs": [
        {
          "output_type": "stream",
          "text": [
            "column :   store_id\t Percent of NaN value : 0.00%\n",
            "column :       date\t Percent of NaN value : 0.00%\n",
            "column :       time\t Percent of NaN value : 0.00%\n",
            "column :    card_id\t Percent of NaN value : 0.00%\n",
            "column :     amount\t Percent of NaN value : 0.00%\n",
            "column : installments\t Percent of NaN value : 99.66%\n",
            "column : days_of_week\t Percent of NaN value : 0.00%\n",
            "column :    holyday\t Percent of NaN value : 0.00%\n"
          ],
          "name": "stdout"
        }
      ]
    },
    {
      "cell_type": "code",
      "metadata": {
        "colab": {
          "base_uri": "https://localhost:8080/"
        },
        "id": "1rIYykKFnHLB",
        "outputId": "019c9171-dba0-48cd-ceb2-7d81d7bc62f5"
      },
      "source": [
        "train[col]"
      ],
      "execution_count": 9,
      "outputs": [
        {
          "output_type": "execute_result",
          "data": {
            "text/plain": [
              "0          0\n",
              "1          0\n",
              "2          0\n",
              "3          0\n",
              "4          0\n",
              "          ..\n",
              "1048570    1\n",
              "1048571    1\n",
              "1048572    1\n",
              "1048573    1\n",
              "1048574    1\n",
              "Name: holyday, Length: 1048575, dtype: int64"
            ]
          },
          "metadata": {
            "tags": []
          },
          "execution_count": 9
        }
      ]
    },
    {
      "cell_type": "code",
      "metadata": {
        "id": "XyLJhgEyu31j"
      },
      "source": [
        "#store_id 별 amount 평균\r\n",
        "#store_id unique값, sum(amount)/unique"
      ],
      "execution_count": null,
      "outputs": []
    },
    {
      "cell_type": "code",
      "metadata": {
        "colab": {
          "base_uri": "https://localhost:8080/"
        },
        "id": "W1HtMYjBvDb7",
        "outputId": "d45c299a-99d9-431f-eef5-5cac37e23ec4"
      },
      "source": [
        "train['store_id'].nunique()"
      ],
      "execution_count": 10,
      "outputs": [
        {
          "output_type": "execute_result",
          "data": {
            "text/plain": [
              "424"
            ]
          },
          "metadata": {
            "tags": []
          },
          "execution_count": 10
        }
      ]
    },
    {
      "cell_type": "code",
      "metadata": {
        "colab": {
          "base_uri": "https://localhost:8080/"
        },
        "id": "W9MXQuKHvIH8",
        "outputId": "9a04ead3-e4e9-4dd5-83d6-2e36f81af339"
      },
      "source": [
        "train['amount'].sum()"
      ],
      "execution_count": 11,
      "outputs": [
        {
          "output_type": "execute_result",
          "data": {
            "text/plain": [
              "128416642"
            ]
          },
          "metadata": {
            "tags": []
          },
          "execution_count": 11
        }
      ]
    },
    {
      "cell_type": "code",
      "metadata": {
        "colab": {
          "base_uri": "https://localhost:8080/"
        },
        "id": "1ZugbaM4xUbk",
        "outputId": "ff65e1c9-b8f6-4400-97a1-8b3344bfb8bf"
      },
      "source": [
        "print(train['amount'].sum()/train['store_id'].nunique())"
      ],
      "execution_count": 12,
      "outputs": [
        {
          "output_type": "stream",
          "text": [
            "302869.4386792453\n"
          ],
          "name": "stdout"
        }
      ]
    },
    {
      "cell_type": "code",
      "metadata": {
        "id": "QCNur5KGympe"
      },
      "source": [
        ""
      ],
      "execution_count": null,
      "outputs": []
    },
    {
      "cell_type": "markdown",
      "metadata": {
        "id": "TmFEzyQ9znaB"
      },
      "source": [
        "store_id별 amount 합계"
      ]
    },
    {
      "cell_type": "code",
      "metadata": {
        "colab": {
          "base_uri": "https://localhost:8080/",
          "height": 204
        },
        "id": "BJAwyloOzt6L",
        "outputId": "d58e03b8-c5ee-43a1-c8d3-aa93183a976f"
      },
      "source": [
        "id_amount=train[['store_id','amount']].groupby(['store_id'], as_index=False).sum()\r\n",
        "id_amount.head()"
      ],
      "execution_count": 17,
      "outputs": [
        {
          "output_type": "execute_result",
          "data": {
            "text/html": [
              "<div>\n",
              "<style scoped>\n",
              "    .dataframe tbody tr th:only-of-type {\n",
              "        vertical-align: middle;\n",
              "    }\n",
              "\n",
              "    .dataframe tbody tr th {\n",
              "        vertical-align: top;\n",
              "    }\n",
              "\n",
              "    .dataframe thead th {\n",
              "        text-align: right;\n",
              "    }\n",
              "</style>\n",
              "<table border=\"1\" class=\"dataframe\">\n",
              "  <thead>\n",
              "    <tr style=\"text-align: right;\">\n",
              "      <th></th>\n",
              "      <th>store_id</th>\n",
              "      <th>amount</th>\n",
              "    </tr>\n",
              "  </thead>\n",
              "  <tbody>\n",
              "    <tr>\n",
              "      <th>0</th>\n",
              "      <td>0</td>\n",
              "      <td>5234611</td>\n",
              "    </tr>\n",
              "    <tr>\n",
              "      <th>1</th>\n",
              "      <td>1</td>\n",
              "      <td>147950</td>\n",
              "    </tr>\n",
              "    <tr>\n",
              "      <th>2</th>\n",
              "      <td>2</td>\n",
              "      <td>1615060</td>\n",
              "    </tr>\n",
              "    <tr>\n",
              "      <th>3</th>\n",
              "      <td>3</td>\n",
              "      <td>62781</td>\n",
              "    </tr>\n",
              "    <tr>\n",
              "      <th>4</th>\n",
              "      <td>4</td>\n",
              "      <td>270312</td>\n",
              "    </tr>\n",
              "  </tbody>\n",
              "</table>\n",
              "</div>"
            ],
            "text/plain": [
              "   store_id   amount\n",
              "0         0  5234611\n",
              "1         1   147950\n",
              "2         2  1615060\n",
              "3         3    62781\n",
              "4         4   270312"
            ]
          },
          "metadata": {
            "tags": []
          },
          "execution_count": 17
        }
      ]
    },
    {
      "cell_type": "code",
      "metadata": {
        "colab": {
          "base_uri": "https://localhost:8080/"
        },
        "id": "9W06_FBb0H6M",
        "outputId": "e46381b6-4902-4d77-c736-d102ea097c62"
      },
      "source": [
        "id_amount['amount'].mean() #같은 값"
      ],
      "execution_count": 18,
      "outputs": [
        {
          "output_type": "execute_result",
          "data": {
            "text/plain": [
              "302869.4386792453"
            ]
          },
          "metadata": {
            "tags": []
          },
          "execution_count": 18
        }
      ]
    },
    {
      "cell_type": "code",
      "metadata": {
        "colab": {
          "base_uri": "https://localhost:8080/",
          "height": 419
        },
        "id": "UDeVD1jI0NuC",
        "outputId": "a92f6696-f4ec-4ede-f4e4-f3713113f311"
      },
      "source": [
        "id_amount[id_amount['amount'] > 302869.44]"
      ],
      "execution_count": 25,
      "outputs": [
        {
          "output_type": "execute_result",
          "data": {
            "text/html": [
              "<div>\n",
              "<style scoped>\n",
              "    .dataframe tbody tr th:only-of-type {\n",
              "        vertical-align: middle;\n",
              "    }\n",
              "\n",
              "    .dataframe tbody tr th {\n",
              "        vertical-align: top;\n",
              "    }\n",
              "\n",
              "    .dataframe thead th {\n",
              "        text-align: right;\n",
              "    }\n",
              "</style>\n",
              "<table border=\"1\" class=\"dataframe\">\n",
              "  <thead>\n",
              "    <tr style=\"text-align: right;\">\n",
              "      <th></th>\n",
              "      <th>store_id</th>\n",
              "      <th>amount</th>\n",
              "    </tr>\n",
              "  </thead>\n",
              "  <tbody>\n",
              "    <tr>\n",
              "      <th>0</th>\n",
              "      <td>0</td>\n",
              "      <td>5234611</td>\n",
              "    </tr>\n",
              "    <tr>\n",
              "      <th>2</th>\n",
              "      <td>2</td>\n",
              "      <td>1615060</td>\n",
              "    </tr>\n",
              "    <tr>\n",
              "      <th>6</th>\n",
              "      <td>6</td>\n",
              "      <td>1389983</td>\n",
              "    </tr>\n",
              "    <tr>\n",
              "      <th>8</th>\n",
              "      <td>8</td>\n",
              "      <td>515535</td>\n",
              "    </tr>\n",
              "    <tr>\n",
              "      <th>11</th>\n",
              "      <td>12</td>\n",
              "      <td>919325</td>\n",
              "    </tr>\n",
              "    <tr>\n",
              "      <th>...</th>\n",
              "      <td>...</td>\n",
              "      <td>...</td>\n",
              "    </tr>\n",
              "    <tr>\n",
              "      <th>415</th>\n",
              "      <td>420</td>\n",
              "      <td>357034</td>\n",
              "    </tr>\n",
              "    <tr>\n",
              "      <th>418</th>\n",
              "      <td>423</td>\n",
              "      <td>1156664</td>\n",
              "    </tr>\n",
              "    <tr>\n",
              "      <th>419</th>\n",
              "      <td>424</td>\n",
              "      <td>383032</td>\n",
              "    </tr>\n",
              "    <tr>\n",
              "      <th>420</th>\n",
              "      <td>425</td>\n",
              "      <td>305283</td>\n",
              "    </tr>\n",
              "    <tr>\n",
              "      <th>421</th>\n",
              "      <td>426</td>\n",
              "      <td>944165</td>\n",
              "    </tr>\n",
              "  </tbody>\n",
              "</table>\n",
              "<p>118 rows × 2 columns</p>\n",
              "</div>"
            ],
            "text/plain": [
              "     store_id   amount\n",
              "0           0  5234611\n",
              "2           2  1615060\n",
              "6           6  1389983\n",
              "8           8   515535\n",
              "11         12   919325\n",
              "..        ...      ...\n",
              "415       420   357034\n",
              "418       423  1156664\n",
              "419       424   383032\n",
              "420       425   305283\n",
              "421       426   944165\n",
              "\n",
              "[118 rows x 2 columns]"
            ]
          },
          "metadata": {
            "tags": []
          },
          "execution_count": 25
        }
      ]
    },
    {
      "cell_type": "code",
      "metadata": {
        "colab": {
          "base_uri": "https://localhost:8080/"
        },
        "id": "MXo2MiBp5Qjp",
        "outputId": "23ef18df-e35b-45b6-d1fe-4fe0fdf371d0"
      },
      "source": [
        "type(id_amount['amount'])"
      ],
      "execution_count": 33,
      "outputs": [
        {
          "output_type": "execute_result",
          "data": {
            "text/plain": [
              "pandas.core.series.Series"
            ]
          },
          "metadata": {
            "tags": []
          },
          "execution_count": 33
        }
      ]
    },
    {
      "cell_type": "code",
      "metadata": {
        "id": "LWOXE3Gg4oWG"
      },
      "source": [
        "id_amount['ylabel'] = [1 if a > 302869.44 else 0 for a in id_amount['amount']] #드디어 해냈다!!!"
      ],
      "execution_count": 34,
      "outputs": []
    },
    {
      "cell_type": "code",
      "metadata": {
        "colab": {
          "base_uri": "https://localhost:8080/",
          "height": 204
        },
        "id": "1jo20iBB37T4",
        "outputId": "b9339212-48ee-4fed-c143-581b378a88ee"
      },
      "source": [
        "id_amount.head() #ylabel은 스토어별 평균 amount 보다 작은 값을 0, 큰 값을 1로 한다"
      ],
      "execution_count": 54,
      "outputs": [
        {
          "output_type": "execute_result",
          "data": {
            "text/html": [
              "<div>\n",
              "<style scoped>\n",
              "    .dataframe tbody tr th:only-of-type {\n",
              "        vertical-align: middle;\n",
              "    }\n",
              "\n",
              "    .dataframe tbody tr th {\n",
              "        vertical-align: top;\n",
              "    }\n",
              "\n",
              "    .dataframe thead th {\n",
              "        text-align: right;\n",
              "    }\n",
              "</style>\n",
              "<table border=\"1\" class=\"dataframe\">\n",
              "  <thead>\n",
              "    <tr style=\"text-align: right;\">\n",
              "      <th></th>\n",
              "      <th>store_id</th>\n",
              "      <th>amount</th>\n",
              "      <th>ylabel</th>\n",
              "    </tr>\n",
              "  </thead>\n",
              "  <tbody>\n",
              "    <tr>\n",
              "      <th>0</th>\n",
              "      <td>0</td>\n",
              "      <td>5234611</td>\n",
              "      <td>1</td>\n",
              "    </tr>\n",
              "    <tr>\n",
              "      <th>1</th>\n",
              "      <td>1</td>\n",
              "      <td>147950</td>\n",
              "      <td>0</td>\n",
              "    </tr>\n",
              "    <tr>\n",
              "      <th>2</th>\n",
              "      <td>2</td>\n",
              "      <td>1615060</td>\n",
              "      <td>1</td>\n",
              "    </tr>\n",
              "    <tr>\n",
              "      <th>3</th>\n",
              "      <td>3</td>\n",
              "      <td>62781</td>\n",
              "      <td>0</td>\n",
              "    </tr>\n",
              "    <tr>\n",
              "      <th>4</th>\n",
              "      <td>4</td>\n",
              "      <td>270312</td>\n",
              "      <td>0</td>\n",
              "    </tr>\n",
              "  </tbody>\n",
              "</table>\n",
              "</div>"
            ],
            "text/plain": [
              "   store_id   amount  ylabel\n",
              "0         0  5234611       1\n",
              "1         1   147950       0\n",
              "2         2  1615060       1\n",
              "3         3    62781       0\n",
              "4         4   270312       0"
            ]
          },
          "metadata": {
            "tags": []
          },
          "execution_count": 54
        }
      ]
    },
    {
      "cell_type": "code",
      "metadata": {
        "colab": {
          "base_uri": "https://localhost:8080/"
        },
        "id": "b9cByRVEL34-",
        "outputId": "3555e46d-24c4-471d-b952-f994d941912e"
      },
      "source": [
        "id_amount['ylabel'].value_counts()"
      ],
      "execution_count": 40,
      "outputs": [
        {
          "output_type": "execute_result",
          "data": {
            "text/plain": [
              "0    306\n",
              "1    118\n",
              "Name: ylabel, dtype: int64"
            ]
          },
          "metadata": {
            "tags": []
          },
          "execution_count": 40
        }
      ]
    },
    {
      "cell_type": "code",
      "metadata": {
        "colab": {
          "base_uri": "https://localhost:8080/",
          "height": 484
        },
        "id": "L1oRXHYIHLF8",
        "outputId": "eaee1371-2de4-4662-ffd4-3105d267aa41"
      },
      "source": [
        "f, ax = plt.subplots(figsize=(10,8))\r\n",
        "id_amount['ylabel'].value_counts().plot.pie(explode=[0,0.04], autopct='%1.1f%%', shadow=True)"
      ],
      "execution_count": 41,
      "outputs": [
        {
          "output_type": "execute_result",
          "data": {
            "text/plain": [
              "<matplotlib.axes._subplots.AxesSubplot at 0x7ff1379a7208>"
            ]
          },
          "metadata": {
            "tags": []
          },
          "execution_count": 41
        },
        {
          "output_type": "display_data",
          "data": {
            "image/png": "[encoded data removed]",
            "text/plain": [
              "<Figure size 720x576 with 1 Axes>"
            ]
          },
          "metadata": {
            "tags": []
          }
        }
      ]
    },
    {
      "cell_type": "code",
      "metadata": {
        "colab": {
          "base_uri": "https://localhost:8080/",
          "height": 142
        },
        "id": "8n-2gIG-MTaY",
        "outputId": "be1bddf3-d7d9-4b08-d578-d2fcfe328df6"
      },
      "source": [
        "id_amount[['amount','ylabel']].groupby(['ylabel'], as_index=True).count()"
      ],
      "execution_count": 45,
      "outputs": [
        {
          "output_type": "execute_result",
          "data": {
            "text/html": [
              "<div>\n",
              "<style scoped>\n",
              "    .dataframe tbody tr th:only-of-type {\n",
              "        vertical-align: middle;\n",
              "    }\n",
              "\n",
              "    .dataframe tbody tr th {\n",
              "        vertical-align: top;\n",
              "    }\n",
              "\n",
              "    .dataframe thead th {\n",
              "        text-align: right;\n",
              "    }\n",
              "</style>\n",
              "<table border=\"1\" class=\"dataframe\">\n",
              "  <thead>\n",
              "    <tr style=\"text-align: right;\">\n",
              "      <th></th>\n",
              "      <th>amount</th>\n",
              "    </tr>\n",
              "    <tr>\n",
              "      <th>ylabel</th>\n",
              "      <th></th>\n",
              "    </tr>\n",
              "  </thead>\n",
              "  <tbody>\n",
              "    <tr>\n",
              "      <th>0</th>\n",
              "      <td>306</td>\n",
              "    </tr>\n",
              "    <tr>\n",
              "      <th>1</th>\n",
              "      <td>118</td>\n",
              "    </tr>\n",
              "  </tbody>\n",
              "</table>\n",
              "</div>"
            ],
            "text/plain": [
              "        amount\n",
              "ylabel        \n",
              "0          306\n",
              "1          118"
            ]
          },
          "metadata": {
            "tags": []
          },
          "execution_count": 45
        }
      ]
    },
    {
      "cell_type": "code",
      "metadata": {
        "colab": {
          "base_uri": "https://localhost:8080/",
          "height": 565
        },
        "id": "VR07IWAdM9sM",
        "outputId": "2251994d-d4f3-4858-9266-804e7550710d"
      },
      "source": [
        "fig, ax = plt.subplots(figsize=(10,8))\r\n",
        "sns.kdeplot(id_amount[id_amount['ylabel'] == 1]['amount'],ax=ax)\r\n",
        "sns.kdeplot(id_amount[id_amount['ylabel'] == 0]['amount'],ax=ax)\r\n",
        "plt.legend(['ylabel == 1','ylabel == 0'])\r\n",
        "plt.show()\r\n",
        "#너무 이상한데 비율을 조정할 필요가 있어"
      ],
      "execution_count": 55,
      "outputs": [
        {
          "output_type": "display_data",
          "data": {
            "image/png": "[encoded data removed]",
            "text/plain": [
              "<Figure size 720x576 with 1 Axes>"
            ]
          },
          "metadata": {
            "tags": [],
            "needs_background": "light"
          }
        }
      ]
    },
    {
      "cell_type": "code",
      "metadata": {
        "colab": {
          "base_uri": "https://localhost:8080/",
          "height": 338
        },
        "id": "-yCBhOdoYiVi",
        "outputId": "d8768ac4-4c3b-4733-f7fa-30a3945d65ac"
      },
      "source": [
        "id_amount[id_amount['ylabel'] == 1]['amount'].hist() #축 조정하기"
      ],
      "execution_count": 58,
      "outputs": [
        {
          "output_type": "execute_result",
          "data": {
            "text/plain": [
              "<matplotlib.axes._subplots.AxesSubplot at 0x7ff1377a8a90>"
            ]
          },
          "metadata": {
            "tags": []
          },
          "execution_count": 58
        },
        {
          "output_type": "display_data",
          "data": {
            "image/png": "[encoded data removed]",
            "text/plain": [
              "<Figure size 432x288 with 1 Axes>"
            ]
          },
          "metadata": {
            "tags": [],
            "needs_background": "light"
          }
        }
      ]
    },
    {
      "cell_type": "code",
      "metadata": {
        "colab": {
          "base_uri": "https://localhost:8080/"
        },
        "id": "7Ie7EUHDYuDa",
        "outputId": "780033da-929b-4068-83e1-cdf6563ec3f7"
      },
      "source": [
        "id_amount['amount']"
      ],
      "execution_count": 60,
      "outputs": [
        {
          "output_type": "execute_result",
          "data": {
            "text/plain": [
              "0      5234611\n",
              "1       147950\n",
              "2      1615060\n",
              "3        62781\n",
              "4       270312\n",
              "        ...   \n",
              "419     383032\n",
              "420     305283\n",
              "421     944165\n",
              "422      95850\n",
              "423      41321\n",
              "Name: amount, Length: 424, dtype: int64"
            ]
          },
          "metadata": {
            "tags": []
          },
          "execution_count": 60
        }
      ]
    },
    {
      "cell_type": "code",
      "metadata": {
        "colab": {
          "base_uri": "https://localhost:8080/"
        },
        "id": "fcDOnKhvZG09",
        "outputId": "1d10ffbd-5529-4251-94ee-963d22ddad26"
      },
      "source": [
        "one = id_amount['amount'][id_amount['ylabel'] == 1]\r\n",
        "zero = id_amount['amount'][id_amount['ylabel'] == 0]\r\n",
        "print(one, zero)"
      ],
      "execution_count": 63,
      "outputs": [
        {
          "output_type": "stream",
          "text": [
            "0      5234611\n",
            "2      1615060\n",
            "6      1389983\n",
            "8       515535\n",
            "11      919325\n",
            "        ...   \n",
            "415     357034\n",
            "418    1156664\n",
            "419     383032\n",
            "420     305283\n",
            "421     944165\n",
            "Name: amount, Length: 118, dtype: int64 1      147950\n",
            "3       62781\n",
            "4      270312\n",
            "5      184437\n",
            "7      109510\n",
            "        ...  \n",
            "414    298175\n",
            "416      5925\n",
            "417    233079\n",
            "422     95850\n",
            "423     41321\n",
            "Name: amount, Length: 306, dtype: int64\n"
          ],
          "name": "stdout"
        }
      ]
    }
  ]
}